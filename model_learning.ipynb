{
 "cells": [
  {
   "cell_type": "code",
   "metadata": {
    "ExecuteTime": {
     "end_time": "2025-04-01T01:16:32.789080Z",
     "start_time": "2025-04-01T01:16:32.142126Z"
    }
   },
   "source": [
    "import pandas as pd\n",
    "from sklearn.ensemble import RandomForestClassifier\n",
    "from sklearn.model_selection import train_test_split\n",
    "from sklearn.metrics import accuracy_score\n",
    "from sklearn.metrics import precision_recall_fscore_support\n",
    "\n",
    "%matplotlib inline\n",
    "\n",
    "df = pd.read_csv('./data/dataset_preprocessing.csv', index_col=0)\n",
    "df.head()"
   ],
   "outputs": [
    {
     "data": {
      "text/plain": [
       "        Age  SibSp  Parch      Fare  Pclass_1  Pclass_2  Pclass_3  Sex_female  \\\n",
       "0  0.271174  0.125    0.0  0.014151         0         0         1           0   \n",
       "1  0.472229  0.125    0.0  0.139136         1         0         0           1   \n",
       "2  0.321438  0.000    0.0  0.015469         0         0         1           1   \n",
       "3  0.434531  0.125    0.0  0.103644         1         0         0           1   \n",
       "4  0.434531  0.000    0.0  0.015713         0         0         1           0   \n",
       "\n",
       "   Sex_male  Embarked_C  Embarked_N  Embarked_Q  Embarked_S  Survived  \n",
       "0         1           0           0           0           1         0  \n",
       "1         0           1           0           0           0         1  \n",
       "2         0           0           0           0           1         1  \n",
       "3         0           0           0           0           1         1  \n",
       "4         1           0           0           0           1         0  "
      ],
      "text/html": [
       "<div>\n",
       "<style scoped>\n",
       "    .dataframe tbody tr th:only-of-type {\n",
       "        vertical-align: middle;\n",
       "    }\n",
       "\n",
       "    .dataframe tbody tr th {\n",
       "        vertical-align: top;\n",
       "    }\n",
       "\n",
       "    .dataframe thead th {\n",
       "        text-align: right;\n",
       "    }\n",
       "</style>\n",
       "<table border=\"1\" class=\"dataframe\">\n",
       "  <thead>\n",
       "    <tr style=\"text-align: right;\">\n",
       "      <th></th>\n",
       "      <th>Age</th>\n",
       "      <th>SibSp</th>\n",
       "      <th>Parch</th>\n",
       "      <th>Fare</th>\n",
       "      <th>Pclass_1</th>\n",
       "      <th>Pclass_2</th>\n",
       "      <th>Pclass_3</th>\n",
       "      <th>Sex_female</th>\n",
       "      <th>Sex_male</th>\n",
       "      <th>Embarked_C</th>\n",
       "      <th>Embarked_N</th>\n",
       "      <th>Embarked_Q</th>\n",
       "      <th>Embarked_S</th>\n",
       "      <th>Survived</th>\n",
       "    </tr>\n",
       "  </thead>\n",
       "  <tbody>\n",
       "    <tr>\n",
       "      <th>0</th>\n",
       "      <td>0.271174</td>\n",
       "      <td>0.125</td>\n",
       "      <td>0.0</td>\n",
       "      <td>0.014151</td>\n",
       "      <td>0</td>\n",
       "      <td>0</td>\n",
       "      <td>1</td>\n",
       "      <td>0</td>\n",
       "      <td>1</td>\n",
       "      <td>0</td>\n",
       "      <td>0</td>\n",
       "      <td>0</td>\n",
       "      <td>1</td>\n",
       "      <td>0</td>\n",
       "    </tr>\n",
       "    <tr>\n",
       "      <th>1</th>\n",
       "      <td>0.472229</td>\n",
       "      <td>0.125</td>\n",
       "      <td>0.0</td>\n",
       "      <td>0.139136</td>\n",
       "      <td>1</td>\n",
       "      <td>0</td>\n",
       "      <td>0</td>\n",
       "      <td>1</td>\n",
       "      <td>0</td>\n",
       "      <td>1</td>\n",
       "      <td>0</td>\n",
       "      <td>0</td>\n",
       "      <td>0</td>\n",
       "      <td>1</td>\n",
       "    </tr>\n",
       "    <tr>\n",
       "      <th>2</th>\n",
       "      <td>0.321438</td>\n",
       "      <td>0.000</td>\n",
       "      <td>0.0</td>\n",
       "      <td>0.015469</td>\n",
       "      <td>0</td>\n",
       "      <td>0</td>\n",
       "      <td>1</td>\n",
       "      <td>1</td>\n",
       "      <td>0</td>\n",
       "      <td>0</td>\n",
       "      <td>0</td>\n",
       "      <td>0</td>\n",
       "      <td>1</td>\n",
       "      <td>1</td>\n",
       "    </tr>\n",
       "    <tr>\n",
       "      <th>3</th>\n",
       "      <td>0.434531</td>\n",
       "      <td>0.125</td>\n",
       "      <td>0.0</td>\n",
       "      <td>0.103644</td>\n",
       "      <td>1</td>\n",
       "      <td>0</td>\n",
       "      <td>0</td>\n",
       "      <td>1</td>\n",
       "      <td>0</td>\n",
       "      <td>0</td>\n",
       "      <td>0</td>\n",
       "      <td>0</td>\n",
       "      <td>1</td>\n",
       "      <td>1</td>\n",
       "    </tr>\n",
       "    <tr>\n",
       "      <th>4</th>\n",
       "      <td>0.434531</td>\n",
       "      <td>0.000</td>\n",
       "      <td>0.0</td>\n",
       "      <td>0.015713</td>\n",
       "      <td>0</td>\n",
       "      <td>0</td>\n",
       "      <td>1</td>\n",
       "      <td>0</td>\n",
       "      <td>1</td>\n",
       "      <td>0</td>\n",
       "      <td>0</td>\n",
       "      <td>0</td>\n",
       "      <td>1</td>\n",
       "      <td>0</td>\n",
       "    </tr>\n",
       "  </tbody>\n",
       "</table>\n",
       "</div>"
      ]
     },
     "execution_count": 1,
     "metadata": {},
     "output_type": "execute_result"
    }
   ],
   "execution_count": 1
  },
  {
   "cell_type": "code",
   "metadata": {
    "ExecuteTime": {
     "end_time": "2025-04-01T01:16:35.334697Z",
     "start_time": "2025-04-01T01:16:35.331232Z"
    }
   },
   "source": [
    "label = df[\"Survived\"]\n",
    "df = df.drop([\"Survived\"], axis=1)"
   ],
   "outputs": [],
   "execution_count": 2
  },
  {
   "cell_type": "code",
   "metadata": {
    "ExecuteTime": {
     "end_time": "2025-04-01T01:16:37.158711Z",
     "start_time": "2025-04-01T01:16:37.155354Z"
    }
   },
   "source": [
    "X_train, X_test, y_train, y_test = train_test_split(df, label, test_size=0.25, random_state=1234)"
   ],
   "outputs": [],
   "execution_count": 3
  },
  {
   "attachments": {},
   "cell_type": "markdown",
   "metadata": {},
   "source": [
    "### 0. 일반적인 모델 학습"
   ]
  },
  {
   "cell_type": "code",
   "metadata": {
    "ExecuteTime": {
     "end_time": "2025-04-01T01:16:41.346456Z",
     "start_time": "2025-04-01T01:16:41.178925Z"
    }
   },
   "source": [
    "# 모델 초기화\n",
    "n_estimator = 300\n",
    "random_state = 1234\n",
    "\n",
    "model = RandomForestClassifier(n_estimators=n_estimator, random_state=random_state)\n",
    "# 모델 학습\n",
    "model.fit(X_train, y_train)\n",
    "# 테스트 데이터에 대한 예측\n",
    "y_pred = model.predict(X_test)\n",
    "# 정확도 계산\n",
    "accuracy = accuracy_score(y_test, y_pred)\n",
    "prf = precision_recall_fscore_support(y_test, y_pred, average='binary')"
   ],
   "outputs": [],
   "execution_count": 4
  },
  {
   "cell_type": "code",
   "metadata": {
    "ExecuteTime": {
     "end_time": "2025-04-01T01:16:42.988424Z",
     "start_time": "2025-04-01T01:16:42.985106Z"
    }
   },
   "source": [
    "# 정확도 출력\n",
    "accuracy"
   ],
   "outputs": [
    {
     "data": {
      "text/plain": [
       "0.8116591928251121"
      ]
     },
     "execution_count": 5,
     "metadata": {},
     "output_type": "execute_result"
    }
   ],
   "execution_count": 5
  },
  {
   "cell_type": "code",
   "metadata": {
    "ExecuteTime": {
     "end_time": "2025-04-01T01:16:44.996305Z",
     "start_time": "2025-04-01T01:16:44.993177Z"
    }
   },
   "source": [
    "prf"
   ],
   "outputs": [
    {
     "data": {
      "text/plain": [
       "(0.788235294117647, 0.7362637362637363, 0.7613636363636364, None)"
      ]
     },
     "execution_count": 6,
     "metadata": {},
     "output_type": "execute_result"
    }
   ],
   "execution_count": 6
  },
  {
   "attachments": {},
   "cell_type": "markdown",
   "metadata": {},
   "source": [
    "### 1. MLflow를 활용한 모델 학습 Tracking\n",
    "* custom logging (직접 로깅) 을 통한 모델 학습 기록 관리\n",
    "* auto logging을 활용한 모델 학습 기록 관리\n",
    "* auto loggine + custom logging"
   ]
  },
  {
   "attachments": {},
   "cell_type": "markdown",
   "metadata": {},
   "source": [
    "##### 1) Custom logging(직접 로깅)을 통한 모델 학습 기록 관리"
   ]
  },
  {
   "metadata": {
    "ExecuteTime": {
     "end_time": "2025-04-01T01:17:23.726283Z",
     "start_time": "2025-04-01T01:17:23.299504Z"
    }
   },
   "cell_type": "code",
   "source": [
    "import mlflow\n",
    "\n",
    "mlflow.set_tracking_uri(\"http://localhost:5000\")"
   ],
   "outputs": [],
   "execution_count": 7
  },
  {
   "metadata": {
    "ExecuteTime": {
     "end_time": "2025-04-01T01:17:44.070265Z",
     "start_time": "2025-04-01T01:17:44.041602Z"
    }
   },
   "cell_type": "code",
   "source": "mlflow.set_experiment(\"mlflow_\")",
   "outputs": [
    {
     "ename": "MlflowException",
     "evalue": "API request to endpoint /api/2.0/mlflow/experiments/get-by-name failed with error code 403 != 200. Response body: ''",
     "output_type": "error",
     "traceback": [
      "\u001B[0;31m---------------------------------------------------------------------------\u001B[0m",
      "\u001B[0;31mMlflowException\u001B[0m                           Traceback (most recent call last)",
      "Cell \u001B[0;32mIn[9], line 1\u001B[0m\n\u001B[0;32m----> 1\u001B[0m \u001B[43mmlflow\u001B[49m\u001B[38;5;241;43m.\u001B[39;49m\u001B[43mset_experiment\u001B[49m\u001B[43m(\u001B[49m\u001B[38;5;124;43m\"\u001B[39;49m\u001B[38;5;124;43mmlflow_\u001B[39;49m\u001B[38;5;124;43m\"\u001B[39;49m\u001B[43m)\u001B[49m\n",
      "File \u001B[0;32m~/miniconda3/envs/mlflow_env/lib/python3.10/site-packages/mlflow/tracking/fluent.py:157\u001B[0m, in \u001B[0;36mset_experiment\u001B[0;34m(experiment_name, experiment_id)\u001B[0m\n\u001B[1;32m    155\u001B[0m \u001B[38;5;28;01mwith\u001B[39;00m _experiment_lock:\n\u001B[1;32m    156\u001B[0m     \u001B[38;5;28;01mif\u001B[39;00m experiment_id \u001B[38;5;129;01mis\u001B[39;00m \u001B[38;5;28;01mNone\u001B[39;00m:\n\u001B[0;32m--> 157\u001B[0m         experiment \u001B[38;5;241m=\u001B[39m \u001B[43mclient\u001B[49m\u001B[38;5;241;43m.\u001B[39;49m\u001B[43mget_experiment_by_name\u001B[49m\u001B[43m(\u001B[49m\u001B[43mexperiment_name\u001B[49m\u001B[43m)\u001B[49m\n\u001B[1;32m    158\u001B[0m         \u001B[38;5;28;01mif\u001B[39;00m \u001B[38;5;129;01mnot\u001B[39;00m experiment:\n\u001B[1;32m    159\u001B[0m             \u001B[38;5;28;01mtry\u001B[39;00m:\n",
      "File \u001B[0;32m~/miniconda3/envs/mlflow_env/lib/python3.10/site-packages/mlflow/tracking/client.py:1701\u001B[0m, in \u001B[0;36mMlflowClient.get_experiment_by_name\u001B[0;34m(self, name)\u001B[0m\n\u001B[1;32m   1669\u001B[0m \u001B[38;5;28;01mdef\u001B[39;00m \u001B[38;5;21mget_experiment_by_name\u001B[39m(\u001B[38;5;28mself\u001B[39m, name: \u001B[38;5;28mstr\u001B[39m) \u001B[38;5;241m-\u001B[39m\u001B[38;5;241m>\u001B[39m Optional[Experiment]:\n\u001B[1;32m   1670\u001B[0m \u001B[38;5;250m    \u001B[39m\u001B[38;5;124;03m\"\"\"Retrieve an experiment by experiment name from the backend store\u001B[39;00m\n\u001B[1;32m   1671\u001B[0m \n\u001B[1;32m   1672\u001B[0m \u001B[38;5;124;03m    Args:\u001B[39;00m\n\u001B[0;32m   (...)\u001B[0m\n\u001B[1;32m   1699\u001B[0m \u001B[38;5;124;03m        Lifecycle_stage: active\u001B[39;00m\n\u001B[1;32m   1700\u001B[0m \u001B[38;5;124;03m    \"\"\"\u001B[39;00m\n\u001B[0;32m-> 1701\u001B[0m     \u001B[38;5;28;01mreturn\u001B[39;00m \u001B[38;5;28;43mself\u001B[39;49m\u001B[38;5;241;43m.\u001B[39;49m\u001B[43m_tracking_client\u001B[49m\u001B[38;5;241;43m.\u001B[39;49m\u001B[43mget_experiment_by_name\u001B[49m\u001B[43m(\u001B[49m\u001B[43mname\u001B[49m\u001B[43m)\u001B[49m\n",
      "File \u001B[0;32m~/miniconda3/envs/mlflow_env/lib/python3.10/site-packages/mlflow/tracking/_tracking_service/client.py:586\u001B[0m, in \u001B[0;36mTrackingServiceClient.get_experiment_by_name\u001B[0;34m(self, name)\u001B[0m\n\u001B[1;32m    578\u001B[0m \u001B[38;5;28;01mdef\u001B[39;00m \u001B[38;5;21mget_experiment_by_name\u001B[39m(\u001B[38;5;28mself\u001B[39m, name):\n\u001B[1;32m    579\u001B[0m \u001B[38;5;250m    \u001B[39m\u001B[38;5;124;03m\"\"\"\u001B[39;00m\n\u001B[1;32m    580\u001B[0m \u001B[38;5;124;03m    Args:\u001B[39;00m\n\u001B[1;32m    581\u001B[0m \u001B[38;5;124;03m        name: The experiment name.\u001B[39;00m\n\u001B[0;32m   (...)\u001B[0m\n\u001B[1;32m    584\u001B[0m \u001B[38;5;124;03m        :py:class:`mlflow.entities.Experiment`\u001B[39;00m\n\u001B[1;32m    585\u001B[0m \u001B[38;5;124;03m    \"\"\"\u001B[39;00m\n\u001B[0;32m--> 586\u001B[0m     \u001B[38;5;28;01mreturn\u001B[39;00m \u001B[38;5;28;43mself\u001B[39;49m\u001B[38;5;241;43m.\u001B[39;49m\u001B[43mstore\u001B[49m\u001B[38;5;241;43m.\u001B[39;49m\u001B[43mget_experiment_by_name\u001B[49m\u001B[43m(\u001B[49m\u001B[43mname\u001B[49m\u001B[43m)\u001B[49m\n",
      "File \u001B[0;32m~/miniconda3/envs/mlflow_env/lib/python3.10/site-packages/mlflow/store/tracking/rest_store.py:641\u001B[0m, in \u001B[0;36mRestStore.get_experiment_by_name\u001B[0;34m(self, experiment_name)\u001B[0m\n\u001B[1;32m    639\u001B[0m \u001B[38;5;28;01mtry\u001B[39;00m:\n\u001B[1;32m    640\u001B[0m     req_body \u001B[38;5;241m=\u001B[39m message_to_json(GetExperimentByName(experiment_name\u001B[38;5;241m=\u001B[39mexperiment_name))\n\u001B[0;32m--> 641\u001B[0m     response_proto \u001B[38;5;241m=\u001B[39m \u001B[38;5;28;43mself\u001B[39;49m\u001B[38;5;241;43m.\u001B[39;49m\u001B[43m_call_endpoint\u001B[49m\u001B[43m(\u001B[49m\u001B[43mGetExperimentByName\u001B[49m\u001B[43m,\u001B[49m\u001B[43m \u001B[49m\u001B[43mreq_body\u001B[49m\u001B[43m)\u001B[49m\n\u001B[1;32m    642\u001B[0m     \u001B[38;5;28;01mreturn\u001B[39;00m Experiment\u001B[38;5;241m.\u001B[39mfrom_proto(response_proto\u001B[38;5;241m.\u001B[39mexperiment)\n\u001B[1;32m    643\u001B[0m \u001B[38;5;28;01mexcept\u001B[39;00m MlflowException \u001B[38;5;28;01mas\u001B[39;00m e:\n",
      "File \u001B[0;32m~/miniconda3/envs/mlflow_env/lib/python3.10/site-packages/mlflow/store/tracking/rest_store.py:90\u001B[0m, in \u001B[0;36mRestStore._call_endpoint\u001B[0;34m(self, api, json_body, endpoint)\u001B[0m\n\u001B[1;32m     88\u001B[0m     endpoint, method \u001B[38;5;241m=\u001B[39m _METHOD_TO_INFO[api]\n\u001B[1;32m     89\u001B[0m response_proto \u001B[38;5;241m=\u001B[39m api\u001B[38;5;241m.\u001B[39mResponse()\n\u001B[0;32m---> 90\u001B[0m \u001B[38;5;28;01mreturn\u001B[39;00m \u001B[43mcall_endpoint\u001B[49m\u001B[43m(\u001B[49m\u001B[38;5;28;43mself\u001B[39;49m\u001B[38;5;241;43m.\u001B[39;49m\u001B[43mget_host_creds\u001B[49m\u001B[43m(\u001B[49m\u001B[43m)\u001B[49m\u001B[43m,\u001B[49m\u001B[43m \u001B[49m\u001B[43mendpoint\u001B[49m\u001B[43m,\u001B[49m\u001B[43m \u001B[49m\u001B[43mmethod\u001B[49m\u001B[43m,\u001B[49m\u001B[43m \u001B[49m\u001B[43mjson_body\u001B[49m\u001B[43m,\u001B[49m\u001B[43m \u001B[49m\u001B[43mresponse_proto\u001B[49m\u001B[43m)\u001B[49m\n",
      "File \u001B[0;32m~/miniconda3/envs/mlflow_env/lib/python3.10/site-packages/mlflow/utils/rest_utils.py:392\u001B[0m, in \u001B[0;36mcall_endpoint\u001B[0;34m(host_creds, endpoint, method, json_body, response_proto, extra_headers)\u001B[0m\n\u001B[1;32m    389\u001B[0m     call_kwargs[\u001B[38;5;124m\"\u001B[39m\u001B[38;5;124mjson\u001B[39m\u001B[38;5;124m\"\u001B[39m] \u001B[38;5;241m=\u001B[39m json_body\n\u001B[1;32m    390\u001B[0m     response \u001B[38;5;241m=\u001B[39m http_request(\u001B[38;5;241m*\u001B[39m\u001B[38;5;241m*\u001B[39mcall_kwargs)\n\u001B[0;32m--> 392\u001B[0m response \u001B[38;5;241m=\u001B[39m \u001B[43mverify_rest_response\u001B[49m\u001B[43m(\u001B[49m\u001B[43mresponse\u001B[49m\u001B[43m,\u001B[49m\u001B[43m \u001B[49m\u001B[43mendpoint\u001B[49m\u001B[43m)\u001B[49m\n\u001B[1;32m    393\u001B[0m response_to_parse \u001B[38;5;241m=\u001B[39m response\u001B[38;5;241m.\u001B[39mtext\n\u001B[1;32m    394\u001B[0m js_dict \u001B[38;5;241m=\u001B[39m json\u001B[38;5;241m.\u001B[39mloads(response_to_parse)\n",
      "File \u001B[0;32m~/miniconda3/envs/mlflow_env/lib/python3.10/site-packages/mlflow/utils/rest_utils.py:255\u001B[0m, in \u001B[0;36mverify_rest_response\u001B[0;34m(response, endpoint)\u001B[0m\n\u001B[1;32m    250\u001B[0m     \u001B[38;5;28;01melse\u001B[39;00m:\n\u001B[1;32m    251\u001B[0m         base_msg \u001B[38;5;241m=\u001B[39m (\n\u001B[1;32m    252\u001B[0m             \u001B[38;5;124mf\u001B[39m\u001B[38;5;124m\"\u001B[39m\u001B[38;5;124mAPI request to endpoint \u001B[39m\u001B[38;5;132;01m{\u001B[39;00mendpoint\u001B[38;5;132;01m}\u001B[39;00m\u001B[38;5;124m \u001B[39m\u001B[38;5;124m\"\u001B[39m\n\u001B[1;32m    253\u001B[0m             \u001B[38;5;124mf\u001B[39m\u001B[38;5;124m\"\u001B[39m\u001B[38;5;124mfailed with error code \u001B[39m\u001B[38;5;132;01m{\u001B[39;00mresponse\u001B[38;5;241m.\u001B[39mstatus_code\u001B[38;5;132;01m}\u001B[39;00m\u001B[38;5;124m != 200\u001B[39m\u001B[38;5;124m\"\u001B[39m\n\u001B[1;32m    254\u001B[0m         )\n\u001B[0;32m--> 255\u001B[0m         \u001B[38;5;28;01mraise\u001B[39;00m MlflowException(\n\u001B[1;32m    256\u001B[0m             \u001B[38;5;124mf\u001B[39m\u001B[38;5;124m\"\u001B[39m\u001B[38;5;132;01m{\u001B[39;00mbase_msg\u001B[38;5;132;01m}\u001B[39;00m\u001B[38;5;124m. Response body: \u001B[39m\u001B[38;5;124m'\u001B[39m\u001B[38;5;132;01m{\u001B[39;00mresponse\u001B[38;5;241m.\u001B[39mtext\u001B[38;5;132;01m}\u001B[39;00m\u001B[38;5;124m'\u001B[39m\u001B[38;5;124m\"\u001B[39m,\n\u001B[1;32m    257\u001B[0m             error_code\u001B[38;5;241m=\u001B[39mget_error_code(response\u001B[38;5;241m.\u001B[39mstatus_code),\n\u001B[1;32m    258\u001B[0m         )\n\u001B[1;32m    260\u001B[0m \u001B[38;5;66;03m# Skip validation for endpoints (e.g. DBFS file-download API) which may return a non-JSON\u001B[39;00m\n\u001B[1;32m    261\u001B[0m \u001B[38;5;66;03m# response\u001B[39;00m\n\u001B[1;32m    262\u001B[0m \u001B[38;5;28;01mif\u001B[39;00m endpoint\u001B[38;5;241m.\u001B[39mstartswith(_REST_API_PATH_PREFIX) \u001B[38;5;129;01mand\u001B[39;00m \u001B[38;5;129;01mnot\u001B[39;00m _can_parse_as_json_object(response\u001B[38;5;241m.\u001B[39mtext):\n",
      "\u001B[0;31mMlflowException\u001B[0m: API request to endpoint /api/2.0/mlflow/experiments/get-by-name failed with error code 403 != 200. Response body: ''"
     ]
    }
   ],
   "execution_count": 9
  },
  {
   "cell_type": "code",
   "metadata": {},
   "source": [
    "n_estimator = 80\n",
    "random_state = 1234\n",
    "\n",
    "mlflow.start_run()\n",
    "model = RandomForestClassifier(n_estimators=n_estimator, random_state=random_state)\n",
    "model.fit(X_train, y_train)\n",
    "\n",
    "y_pred = model.predict(X_test)\n",
    "accuracy = accuracy_score(y_test, y_pred)\n",
    "prf = precision_recall_fscore_support(y_test, y_pred, average='binary')\n",
    "\n",
    "mlflow.log_param(\"n_estimator\", n_estimator)\n",
    "mlflow.log_metric(\"accuracy_on_test\", accuracy)\n",
    "mlflow.log_metric(\"precision_on_test\", prf[0])\n",
    "mlflow.log_metric(\"recall_on_test\", prf[1])\n",
    "mlflow.log_metric(\"f1_on_test\", prf[2])\n",
    "\n",
    "mlflow.sklearn.log_model(model, \"model\")\n",
    "\n",
    "mlflow.end_run()"
   ],
   "outputs": [],
   "execution_count": null
  },
  {
   "attachments": {},
   "cell_type": "markdown",
   "metadata": {},
   "source": [
    "##### 2) auto logging을 활용한 모델 학습 기록 관리"
   ]
  },
  {
   "cell_type": "code",
   "metadata": {},
   "source": [
    "# Mlflow Sklearn을 활용해서 모델 및 메트릭 자동 기록! \n",
    "'''\n",
    "\tTo do \n",
    "\tuse autolog() on mlflow \n",
    "'''\n",
    "\n"
   ],
   "outputs": [],
   "execution_count": null
  },
  {
   "cell_type": "code",
   "metadata": {},
   "source": [
    "# 모델 초기화\n",
    "n_estimator = 77\n",
    "random_state = 2222\n",
    "\n",
    "model = RandomForestClassifier(n_estimators=n_estimator, random_state=random_state)\n",
    "# 모델 학습\n",
    "model.fit(X_train, y_train)\n",
    "# 테스트 데이터에 대한 예측\n",
    "y_pred = model.predict(X_test)\n",
    "# 정확도 계산\n",
    "accuracy = accuracy_score(y_test, y_pred)\n",
    "prf = precision_recall_fscore_support(y_test, y_pred, average='binary')"
   ],
   "outputs": [],
   "execution_count": null
  },
  {
   "attachments": {},
   "cell_type": "markdown",
   "metadata": {},
   "source": [
    "### 3) auto logging + custom logging을 활용한 모델 학습 관리"
   ]
  },
  {
   "cell_type": "code",
   "metadata": {},
   "source": [
    "'''\n",
    "\tTo do\n",
    "\tauto logging에서 수집되지 않는 정보 추가로 logging 하기 \n",
    "\t\tprecision, recall, f1score, accuracy for test data set \n",
    "\n",
    "'''\n",
    "\n",
    "\n"
   ],
   "outputs": [],
   "execution_count": null
  },
  {
   "attachments": {},
   "cell_type": "markdown",
   "metadata": {},
   "source": [
    "### 2. MLflow를 활용한 모델 최적화 Tracking\n",
    "* 직접 parameter 변경해가며 모델 최적화\n",
    "* GridSearch 혹은 RandomSearch를 활용하여 모델 최적화\n"
   ]
  },
  {
   "attachments": {},
   "cell_type": "markdown",
   "metadata": {},
   "source": [
    "##### 1) 직접 parameter 변경해가며 모델 최적화"
   ]
  },
  {
   "cell_type": "code",
   "metadata": {},
   "source": [
    "def train_model_with_hyperparameters(n_estimator, max_depth, max_feature):\n",
    "    with mlflow.start_run():\n",
    "        model = RandomForestClassifier(n_estimators=n_estimator, max_depth=max_depth, max_features=max_feature)\n",
    "        model.fit(X_train, y_train)\n",
    "        y_pred = model.predict(X_test)\n",
    "        accuracy = accuracy_score(y_test, y_pred)\n",
    "        prf = precision_recall_fscore_support(y_test, y_pred, average='binary')\n",
    "        mlflow.log_metric(\"precision_on_test\", prf[0])\n",
    "        mlflow.log_metric(\"recall_on_test\", prf[1])\n",
    "        mlflow.log_metric(\"f1score_on_test\", prf[2])\n",
    "        mlflow.log_metric(\"accuracy_on_test\", accuracy)"
   ],
   "outputs": [],
   "execution_count": null
  },
  {
   "cell_type": "code",
   "metadata": {},
   "source": [
    "n_estimators = [50, 100, 150, 200]\n",
    "max_depths = [2, 5, 10]\n",
    "max_features = [5, 8, 10, 13]\n",
    "\n",
    "'''\n",
    "    To do\n",
    "    run model with hyper-parameter combination \n",
    "'''\n"
   ],
   "outputs": [],
   "execution_count": null
  },
  {
   "attachments": {},
   "cell_type": "markdown",
   "metadata": {},
   "source": [
    "##### 2) GridSearch 혹은 RandomSearch를 활용하여 모델 최적화\n"
   ]
  },
  {
   "cell_type": "code",
   "metadata": {},
   "source": [
    "from sklearn.model_selection import GridSearchCV\n",
    "\n",
    "\n",
    "'''\n",
    "\tTo do\n",
    "\trun GridSearchCV with mlflow \n",
    "'''\n",
    "\n"
   ],
   "outputs": [],
   "execution_count": null
  },
  {
   "cell_type": "code",
   "metadata": {},
   "source": [],
   "outputs": [],
   "execution_count": null
  }
 ],
 "metadata": {
  "kernelspec": {
   "display_name": "etl_cv",
   "language": "python",
   "name": "python3"
  },
  "language_info": {
   "codemirror_mode": {
    "name": "ipython",
    "version": 3
   },
   "file_extension": ".py",
   "mimetype": "text/x-python",
   "name": "python",
   "nbconvert_exporter": "python",
   "pygments_lexer": "ipython3",
   "version": "3.8.16"
  },
  "orig_nbformat": 4
 },
 "nbformat": 4,
 "nbformat_minor": 2
}
