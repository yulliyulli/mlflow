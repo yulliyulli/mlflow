{
 "cells": [
  {
   "metadata": {
    "collapsed": true,
    "ExecuteTime": {
     "end_time": "2025-03-31T07:04:03.437707Z",
     "start_time": "2025-03-31T07:04:02.850610Z"
    }
   },
   "cell_type": "code",
   "source": [
    "from sklearn.datasets import load_diabetes\n",
    "from sklearn.model_selection import train_test_split\n",
    "from sklearn.ensemble import RandomForestRegressor\n",
    "\n",
    "data_diabetes = load_diabetes()\n",
    "X_train, X_test, y_train, y_test = train_test_split(data_diabetes.data, data_diabetes.target)\n",
    "\n",
    "reg = RandomForestRegressor(n_estimators=120, max_depth=10, max_features=5)\n",
    "reg.fit(X_train, y_train)\n",
    "\n",
    "predictions= reg.predict(X_test)"
   ],
   "id": "initial_id",
   "outputs": [],
   "execution_count": 1
  },
  {
   "metadata": {
    "ExecuteTime": {
     "end_time": "2025-03-31T07:04:16.764402Z",
     "start_time": "2025-03-31T07:04:16.759366Z"
    }
   },
   "cell_type": "code",
   "source": "predictions",
   "id": "2c1dc39e0bc3b1a7",
   "outputs": [
    {
     "data": {
      "text/plain": [
       "array([139.22468044, 115.08338605, 237.95741117, 172.12289904,\n",
       "        84.3327499 ,  87.02664669, 109.72175243, 150.69145833,\n",
       "       122.71045511, 176.56604167, 106.18181917,  85.47185658,\n",
       "       191.2591208 , 156.16485337, 183.54557031, 210.08494468,\n",
       "       176.3454866 , 243.91493056, 170.78305919, 112.90130225,\n",
       "       176.63239893, 151.94905103, 183.04046749, 194.45911614,\n",
       "       107.69212376, 203.93709361, 137.28540198, 119.88147279,\n",
       "       227.54145477, 190.58136379, 114.14984006, 146.12215848,\n",
       "       191.76236996,  80.67866627, 138.55483388, 115.93165634,\n",
       "       120.50274368, 186.98034767, 180.62535579, 278.44982143,\n",
       "       128.68602203, 129.18216885, 207.09736802,  92.84359498,\n",
       "       153.81731523, 254.60069444,  92.24438623, 163.04478716,\n",
       "        92.23741276, 121.45671587, 151.84733747, 223.98379028,\n",
       "       129.70419131, 110.02789944, 228.18221782, 111.44552883,\n",
       "        98.19290666, 150.49876427, 242.79706332, 218.50106514,\n",
       "        93.83785113, 124.25776027, 184.95715666, 152.71791438,\n",
       "       129.7896638 , 216.78404431,  80.00920254,  74.56279096,\n",
       "       245.23330026, 161.36356442,  77.44985171, 164.60666967,\n",
       "       107.4514492 ,  88.4839682 , 207.95744368, 236.81034722,\n",
       "       199.08354813, 104.26602193,  92.87637623, 144.15692335,\n",
       "       107.25921661,  91.34664059,  80.21151837,  96.10006649,\n",
       "        78.35082369, 139.73764881, 123.37077874,  96.92266811,\n",
       "        92.95644343, 163.7894055 , 105.44121221,  78.26294641,\n",
       "       211.11319444, 188.6957325 , 212.6847478 , 237.74704545,\n",
       "       244.8468039 , 162.44478282, 282.06200272, 139.12589187,\n",
       "       118.08467847, 150.11791243, 258.34616054,  96.74437134,\n",
       "        83.22392507, 276.03166667, 103.59049365, 264.08675926,\n",
       "       104.19790672, 281.25339646, 267.71104377])"
      ]
     },
     "execution_count": 2,
     "metadata": {},
     "output_type": "execute_result"
    }
   ],
   "execution_count": 2
  },
  {
   "metadata": {
    "ExecuteTime": {
     "end_time": "2025-03-31T07:07:55.964062Z",
     "start_time": "2025-03-31T07:07:53.011957Z"
    }
   },
   "cell_type": "code",
   "source": [
    "import mlflow\n",
    "\n",
    "from sklearn.datasets import load_diabetes\n",
    "from sklearn.model_selection import train_test_split\n",
    "from sklearn.ensemble import RandomForestRegressor\n",
    "\n",
    "mlflow.sklearn.autolog()\n",
    "\n",
    "data_diabetes = load_diabetes()\n",
    "X_train, X_test, y_train, y_test = train_test_split(data_diabetes.data, data_diabetes.target)\n",
    "\n",
    "reg = RandomForestRegressor(n_estimators=120, max_depth=10, max_features=5)\n",
    "reg.fit(X_train, y_train)\n",
    "\n",
    "predictions= reg.predict(X_test)"
   ],
   "id": "72d6922656bda3b1",
   "outputs": [
    {
     "name": "stderr",
     "output_type": "stream",
     "text": [
      "2025/03/31 16:07:55 INFO mlflow.utils.autologging_utils: Created MLflow autologging run with ID '13a0a912232e4a4eb0e263cb2c8124b6', which will track hyperparameters, performance metrics, model artifacts, and lineage information for the current sklearn workflow\n",
      "2025/03/31 16:07:55 WARNING mlflow.utils.autologging_utils: Encountered unexpected error during sklearn autologging: When an mlflow-artifacts URI was supplied, the tracking URI must be a valid http or https URI, but it was currently set to file:///Users/youjin.kim/PycharmProjects/mlflow/mlruns. Perhaps you forgot to set the tracking URI to the running MLflow server. To set the tracking URI, use either of the following methods:\n",
      "1. Set the MLFLOW_TRACKING_URI environment variable to the desired tracking URI. `export MLFLOW_TRACKING_URI=http://localhost:5000`\n",
      "2. Set the tracking URI programmatically by calling `mlflow.set_tracking_uri`. `mlflow.set_tracking_uri('http://localhost:5000')`\n"
     ]
    }
   ],
   "execution_count": 3
  }
 ],
 "metadata": {
  "kernelspec": {
   "display_name": "Python 3",
   "language": "python",
   "name": "python3"
  },
  "language_info": {
   "codemirror_mode": {
    "name": "ipython",
    "version": 2
   },
   "file_extension": ".py",
   "mimetype": "text/x-python",
   "name": "python",
   "nbconvert_exporter": "python",
   "pygments_lexer": "ipython2",
   "version": "2.7.6"
  }
 },
 "nbformat": 4,
 "nbformat_minor": 5
}
